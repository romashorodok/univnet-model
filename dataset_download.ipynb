{
 "cells": [
  {
   "cell_type": "code",
   "execution_count": 3,
   "metadata": {},
   "outputs": [
    {
     "name": "stderr",
     "output_type": "stream",
     "text": [
      "/Users/user/codec/.venv/lib/python3.12/site-packages/tqdm/auto.py:21: TqdmWarning: IProgress not found. Please update jupyter and ipywidgets. See https://ipywidgets.readthedocs.io/en/stable/user_install.html\n",
      "  from .autonotebook import tqdm as notebook_tqdm\n",
      "/Users/user/codec/.venv/lib/python3.12/site-packages/lhotse/recipes/iwslt22_ta.py:323: SyntaxWarning: invalid escape sequence '\\s'\n",
      "  text = re.sub(\"\\s+\", \" \", text)\n",
      "/Users/user/codec/.venv/lib/python3.12/site-packages/lhotse/recipes/iwslt22_ta.py:324: SyntaxWarning: invalid escape sequence '\\s'\n",
      "  text = re.sub(\"\\s+\\.\\s+\", \".\", text)\n"
     ]
    }
   ],
   "source": [
    "import os\n",
    "from pathlib import Path\n",
    "\n",
    "from lhotse import CutSet\n",
    "from lhotse.cut import Cut, MonoCut\n",
    "from lhotse.recipes import (\n",
    "    download_voxceleb1,\n",
    "    download_voxceleb2,\n",
    "    hifitts,\n",
    "    libritts,\n",
    "    prepare_voxceleb,\n",
    ")\n",
    "from lhotse.dataset import (\n",
    "    SimpleCutSampler,\n",
    "    UnsupervisedDataset\n",
    ")\n",
    "import pandas as pd"
   ]
  },
  {
   "cell_type": "code",
   "execution_count": 4,
   "metadata": {},
   "outputs": [],
   "source": [
    "root_dir = Path(\"datasets_cache\")\n",
    "libritts_path = root_dir / \"libritts\""
   ]
  },
  {
   "cell_type": "code",
   "execution_count": 5,
   "metadata": {},
   "outputs": [
    {
     "name": "stderr",
     "output_type": "stream",
     "text": [
      "datasets_cache/libritts/train-clean-100.tar.gz: 100%|██████████| 7.72G/7.72G [30:19<00:00, 4.24MB/s]\n",
      "Downloading LibriTTS parts: 100%|██████████| 1/1 [33:46<00:00, 2026.74s/it]\n"
     ]
    },
    {
     "data": {
      "text/plain": [
       "PosixPath('datasets_cache/libritts')"
      ]
     },
     "execution_count": 5,
     "metadata": {},
     "output_type": "execute_result"
    }
   ],
   "source": [
    "libritts_root = libritts.download_libritts(\n",
    "    libritts_path,\n",
    "    dataset_parts=[\"train-clean-100\"],\n",
    ")\n",
    "libritts_root"
   ]
  }
 ],
 "metadata": {
  "kernelspec": {
   "display_name": "Python 3",
   "language": "python",
   "name": "python3"
  },
  "language_info": {
   "codemirror_mode": {
    "name": "ipython",
    "version": 3
   },
   "file_extension": ".py",
   "mimetype": "text/x-python",
   "name": "python",
   "nbconvert_exporter": "python",
   "pygments_lexer": "ipython3",
   "version": "3.12.5"
  }
 },
 "nbformat": 4,
 "nbformat_minor": 2
}
